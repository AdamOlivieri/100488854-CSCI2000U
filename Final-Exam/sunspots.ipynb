{
 "cells": [
  {
   "cell_type": "code",
   "execution_count": 1,
   "metadata": {
    "collapsed": true
   },
   "outputs": [],
   "source": [
    "%matplotlib inline"
   ]
  },
  {
   "cell_type": "code",
   "execution_count": 2,
   "metadata": {
    "collapsed": true
   },
   "outputs": [],
   "source": [
    "import numpy as np\n",
    "import matplotlib.pyplot as plt"
   ]
  },
  {
   "cell_type": "code",
   "execution_count": 3,
   "metadata": {
    "collapsed": true
   },
   "outputs": [],
   "source": [
    "dt = np.dtype([('Year', int), ('Month', int), ('Day', int), ('Date', float), ('Sunspots', int), ('unofficial measurements', int)])\n",
    "data = np.recfromtxt('ISSN_D_tot.csv', delimiter=',', dtype=dt)"
   ]
  },
  {
   "cell_type": "code",
   "execution_count": 11,
   "metadata": {
    "collapsed": false
   },
   "outputs": [
    {
     "name": "stdout",
     "output_type": "stream",
     "text": [
      "(2015, 5, 31)\n"
     ]
    }
   ],
   "source": [
    "value = 0\n",
    "for i in range(len(data)):\n",
    "    if (data['Date'][i] > 2015.410):\n",
    "        value = data['Year'][i], data['Month'][i], data['Day'][i]\n",
    "print(value)"
   ]
  },
  {
   "cell_type": "code",
   "execution_count": 21,
   "metadata": {
    "collapsed": false
   },
   "outputs": [
    {
     "name": "stdout",
     "output_type": "stream",
     "text": [
      "58306\n",
      "3702922\n",
      "The mean is:\n",
      "63.5084210887\n"
     ]
    }
   ],
   "source": [
    "total = 0\n",
    "sunsp = 0\n",
    "for i in range(len(data)):\n",
    "    if (data['Sunspots'][i] >= 1):\n",
    "        total +=1\n",
    "        sunsp += data['Sunspots'][i]\n",
    "mean = sunsp/total        \n",
    "\n",
    "print(total)\n",
    "print(sunsp)\n",
    "print(\"The mean is:\")\n",
    "print(mean)"
   ]
  },
  {
   "cell_type": "code",
   "execution_count": null,
   "metadata": {
    "collapsed": true
   },
   "outputs": [],
   "source": []
  }
 ],
 "metadata": {
  "kernelspec": {
   "display_name": "Python 3",
   "language": "python",
   "name": "python3"
  },
  "language_info": {
   "codemirror_mode": {
    "name": "ipython",
    "version": 3
   },
   "file_extension": ".py",
   "mimetype": "text/x-python",
   "name": "python",
   "nbconvert_exporter": "python",
   "pygments_lexer": "ipython3",
   "version": "3.4.3"
  }
 },
 "nbformat": 4,
 "nbformat_minor": 0
}
