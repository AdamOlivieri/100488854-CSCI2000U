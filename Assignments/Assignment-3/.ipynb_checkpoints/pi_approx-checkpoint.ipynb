{
 "cells": [
  {
   "cell_type": "code",
   "execution_count": 6,
   "metadata": {
    "collapsed": false
   },
   "outputs": [
    {
     "name": "stdout",
     "output_type": "stream",
     "text": [
      "When n = 10, rho_n = 3.0418396189294032\n",
      "When n = 100, rho_n = 3.1315929035585537\n",
      "When n = 1000, rho_n = 3.140592653839794\n",
      "When n = 10000, rho_n = 3.1414926535900345\n",
      "When n = 100000, rho_n = 3.1415826535897198\n",
      "When n = 1000000, rho_n = 3.1415916535897743\n"
     ]
    }
   ],
   "source": [
    "#Adam Olivieri 100488854\n",
    "\n",
    "#Approx pi for rho tau and un\n",
    "\n",
    "def Pn(n):\n",
    "    \n",
    "     while n <=1000000:\n",
    "    \n",
    "         finalValue = 0\n",
    "         for k in range (1, n+1):\n",
    "            increment =  ((pow(-1.0, (k+1.0)))/((2.0*k)-1.0))\n",
    "            finalValue += increment\n",
    "        \n",
    "         print ('When n = ' + str(n) + ', rho_n = ' +  str(finalValue * 4.0))\n",
    "            \n",
    "         n = n*10\n",
    "        \n",
    "Pn(10)"
   ]
  },
  {
   "cell_type": "code",
   "execution_count": 5,
   "metadata": {
    "collapsed": false
   },
   "outputs": [
    {
     "name": "stdout",
     "output_type": "stream",
     "text": [
      " When n =10, tau_n = 3.04936163598207\n",
      " When n =100, tau_n = 3.1320765318091053\n",
      " When n =1000, tau_n = 3.1406380562059946\n",
      " When n =10000, tau_n = 3.1414971639472147\n",
      " When n =100000, tau_n = 3.141583104326456\n",
      " When n =1000000, tau_n = 3.1415916986605086\n"
     ]
    }
   ],
   "source": [
    "def tn(n):\n",
    "    \n",
    "    while n <=1000000:\n",
    "        finalValue = 0\n",
    "        for k in range(1, n+1):\n",
    "            increment = (1.0/(pow(k, 2.0)))\n",
    "            finalValue += increment\n",
    "    \n",
    "        print (' When n =' + str(n) + ', tau_n = ' + str(pow((finalValue * 6.0), (1.0/2.0))))\n",
    "        n = n * 10\n",
    "\n",
    "tn(10)"
   ]
  },
  {
   "cell_type": "code",
   "execution_count": 3,
   "metadata": {
    "collapsed": false
   },
   "outputs": [
    {
     "name": "stdout",
     "output_type": "stream",
     "text": [
      " When n =10, mu_n = 3.1413846224669713\n",
      " When n =100, mu_n = 3.1415924153073678\n",
      " When n =1000, mu_n = 3.1415926533482703\n",
      " When n =10000, mu_n = 3.141592653589592\n",
      " When n =100000, mu_n = 3.141592653589592\n",
      " When n =1000000, mu_n = 3.141592653589592\n"
     ]
    }
   ],
   "source": [
    "def un(n):\n",
    "\n",
    "    \n",
    "    while n <=1000000:\n",
    "        \n",
    "        finalValue = 0\n",
    "        for k in range(1, n+1):\n",
    "            increment = (1.0/pow(k, 4.0))\n",
    "            finalValue += increment\n",
    "        \n",
    "        print (' When n =' + str(n) + ', mu_n = ' + str(pow((finalValue * 90.0), (1.0/4.0))))\n",
    "        n  = n * 10\n",
    "    \n",
    "un(10)"
   ]
  }
 ],
 "metadata": {
  "kernelspec": {
   "display_name": "Python 3",
   "language": "python",
   "name": "python3"
  },
  "language_info": {
   "codemirror_mode": {
    "name": "ipython",
    "version": 3
   },
   "file_extension": ".py",
   "mimetype": "text/x-python",
   "name": "python",
   "nbconvert_exporter": "python",
   "pygments_lexer": "ipython3",
   "version": "3.4.3"
  }
 },
 "nbformat": 4,
 "nbformat_minor": 0
}
