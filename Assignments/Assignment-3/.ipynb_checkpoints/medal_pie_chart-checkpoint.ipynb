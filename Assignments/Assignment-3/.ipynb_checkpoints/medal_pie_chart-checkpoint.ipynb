{
 "cells": [
  {
   "cell_type": "code",
   "execution_count": 6,
   "metadata": {
    "collapsed": false
   },
   "outputs": [],
   "source": [
    "#Adam Olivieri 100488854\n",
    "\n",
    "import matplotlib.pyplot as plt\n",
    "\n",
    "#Pie chart with countries and their values\n",
    "\n",
    "labels = 'USA', 'CHN', 'GBR', 'RUS', 'KOR', 'GER', 'FRA', 'ITA', 'HUN', 'AUS', 'OTHER'\n",
    "\n",
    "values =[46, 38, 29, 24, 13, 11, 11, 8, 8, 7, 107]\n",
    "\n",
    "colors = ['blue', 'red', 'black', 'green', 'yellow', 'orange', 'purple', 'brown', 'pink', 'darkcyan', 'palegoldenrod']\n",
    "\n",
    "\n",
    "plt.pie(values, labels = labels, colors = colors, startangle = 90)\n",
    "\n",
    "plt.axis =('equal')\n",
    "plt.title('2012 Olympic Gold Medals (100488854)') \n",
    "\n",
    "plt.show()"
   ]
  },
  {
   "cell_type": "code",
   "execution_count": null,
   "metadata": {
    "collapsed": true
   },
   "outputs": [],
   "source": []
  }
 ],
 "metadata": {
  "kernelspec": {
   "display_name": "Python 3",
   "language": "python",
   "name": "python3"
  },
  "language_info": {
   "codemirror_mode": {
    "name": "ipython",
    "version": 3
   },
   "file_extension": ".py",
   "mimetype": "text/x-python",
   "name": "python",
   "nbconvert_exporter": "python",
   "pygments_lexer": "ipython3",
   "version": "3.4.3"
  }
 },
 "nbformat": 4,
 "nbformat_minor": 0
}
