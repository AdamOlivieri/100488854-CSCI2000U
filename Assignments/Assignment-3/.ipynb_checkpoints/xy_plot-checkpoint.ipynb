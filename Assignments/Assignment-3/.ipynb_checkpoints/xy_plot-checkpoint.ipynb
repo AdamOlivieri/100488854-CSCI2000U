{
 "cells": [
  {
   "cell_type": "code",
   "execution_count": 24,
   "metadata": {
    "collapsed": false
   },
   "outputs": [],
   "source": [
    "#Adam Olivieri 100488854\n",
    "\n",
    "#plot xy in red.\n",
    "\n",
    "import matplotlib.pyplot as plt\n",
    "import numpy as np\n",
    "\n",
    "with open('xy_points.dat') as z:\n",
    "    xycoords = z.readlines()\n",
    "    xcoords = xycoords[0].split()\n",
    "    ycoords = xycoords[1].split()\n",
    "    \n",
    "for i in range(0, len(xcoords)):\n",
    "    xcoords[i] = float(xcoords[i])\n",
    "    \n",
    "for j in range(0, len(ycoords)):\n",
    "    ycoords[j] = float(ycoords[j])\n",
    "  \n",
    "\n",
    "    \n",
    "plt.scatter(xcoords, ycoords, c='red')\n",
    "plt.title('Highlighted points (100488854)')\n",
    "plt.show()"
   ]
  },
  {
   "cell_type": "code",
   "execution_count": null,
   "metadata": {
    "collapsed": true
   },
   "outputs": [],
   "source": []
  },
  {
   "cell_type": "code",
   "execution_count": null,
   "metadata": {
    "collapsed": true
   },
   "outputs": [],
   "source": []
  },
  {
   "cell_type": "code",
   "execution_count": null,
   "metadata": {
    "collapsed": true
   },
   "outputs": [],
   "source": []
  }
 ],
 "metadata": {
  "kernelspec": {
   "display_name": "Python 3",
   "language": "python",
   "name": "python3"
  },
  "language_info": {
   "codemirror_mode": {
    "name": "ipython",
    "version": 3
   },
   "file_extension": ".py",
   "mimetype": "text/x-python",
   "name": "python",
   "nbconvert_exporter": "python",
   "pygments_lexer": "ipython3",
   "version": "3.4.3"
  }
 },
 "nbformat": 4,
 "nbformat_minor": 0
}
