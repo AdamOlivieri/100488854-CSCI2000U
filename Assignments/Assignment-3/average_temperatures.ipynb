{
 "cells": [
  {
   "cell_type": "code",
   "execution_count": 3,
   "metadata": {
    "collapsed": false
   },
   "outputs": [
    {
     "name": "stdout",
     "output_type": "stream",
     "text": [
      "['3.6', '4.8', '5.6', '9.6', '12.2', '14.3', '17.7', '19', '15.4', '10.5', '7.2', '4.4']\n"
     ]
    }
   ],
   "source": [
    "#Adam Olivieri 100488854\n",
    "\n",
    "import matplotlib.pyplot as plt\n",
    "\n",
    "months = [1,2,3,4,5,6,7,8,9,10,11,12]\n",
    "monthsStrings = ['Jan','Feb','Mar','Apr','May','Jun','Jul','Aug','Sep','Oct','Nov','Dec']\n",
    "\n",
    "#Striping the lines from each file\n",
    "with open ('vancouver_temperature_2012.dat') as f:\n",
    "    datav = f.readlines()\n",
    "    datav = [x.strip('\\n') for x in datav]\n",
    "    \n",
    "with open ('toronto_temperature_2012.dat') as q:\n",
    "    datat = q.readlines()\n",
    "    datat = [x.strip('\\n') for x in datat]\n",
    "    \n",
    "with open ('montreal_temperature_2012.dat') as r:\n",
    "    datam = r.readlines()\n",
    "    datam = [x.strip('\\n') for x in datam]\n",
    "\n",
    "#Plotting\n",
    "plt.plot(months, datav, label = 'Vancounver')\n",
    "plt.plot(months, datam, label = 'Montreal')\n",
    "plt.plot(months, datat, label = 'Toronto')\n",
    "plt.legend(loc='upper left')\n",
    "plt.xlabel('Months')\n",
    "plt.ylabel('Temperature (Celsius)')\n",
    "plt.xticks(months, monthsStrings, rotation = 'horizontal')\n",
    "plt.title('2012 average monthly temperatures (100488854)') \n",
    "\n",
    "plt.show()\n"
   ]
  },
  {
   "cell_type": "code",
   "execution_count": null,
   "metadata": {
    "collapsed": true
   },
   "outputs": [],
   "source": []
  },
  {
   "cell_type": "code",
   "execution_count": null,
   "metadata": {
    "collapsed": true
   },
   "outputs": [],
   "source": []
  }
 ],
 "metadata": {
  "kernelspec": {
   "display_name": "Python 3",
   "language": "python",
   "name": "python3"
  },
  "language_info": {
   "codemirror_mode": {
    "name": "ipython",
    "version": 3
   },
   "file_extension": ".py",
   "mimetype": "text/x-python",
   "name": "python",
   "nbconvert_exporter": "python",
   "pygments_lexer": "ipython3",
   "version": "3.4.3"
  }
 },
 "nbformat": 4,
 "nbformat_minor": 0
}
